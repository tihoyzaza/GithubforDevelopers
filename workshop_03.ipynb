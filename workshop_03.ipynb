{
 "cells": [
  {
   "cell_type": "markdown",
   "id": "783f968e",
   "metadata": {},
   "source": [
    "# Workshop 03\n",
    "\n",
    "Root Finding"
   ]
  },
  {
   "cell_type": "markdown",
   "id": "e94c8df2",
   "metadata": {},
   "source": [
    "## PROBLEM\n",
    "\n",
    "กําหนดฟังก์ชัน\n",
    "\n",
    "$$ f(x) = x^3 - 6x^2 + 11x - 5.9 $$\n",
    "\n",
    "จงหาค่ารากของสมการโดยวิธีวางผิดที่ (False-Position Method)\n",
    "\n",
    "กำหนดค่าเริ่มต้น\n",
    "    $$ x_l = 2.5 \\quad\\text{ และ }\\quad x_u = 3.5  $$\n",
    "โดยที่ค่าร้อยละของความคลาดเคลื่อนสัมพัทธ์ คือ $\\varepsilon_{a} = 0.1 \\%$"
   ]
  },
  {
   "cell_type": "code",
   "execution_count": 1,
   "id": "e086e160",
   "metadata": {},
   "outputs": [
    {
     "name": "stdout",
     "output_type": "stream",
     "text": [
      "xr = 1.923274523641496\n",
      "fxl and fxr = -1021.525, -468.32062155876486\n",
      "num = 478401.2229378173\n",
      "Solution = -0.4421278505497317\n",
      "ea is = 0.09525437566561144\n"
     ]
    }
   ],
   "source": [
    "# Solution here ...\n",
    "def f(x):\n",
    "    return (x**3) - (6*(x**2)) * (11*x) - (5.9)\n",
    "\n",
    "xl = 2.5\n",
    "xu = 3.5\n",
    "xr = xu - ((f(xu) * (xl - xu)) / (f(xl) - f(xu)))\n",
    "ea = 100\n",
    "\n",
    "print(f'xr = {xr}')\n",
    "print(f'fxl and fxr = {f(xl)}, {f(xr)}')\n",
    "\n",
    "num = f(xl) * f(xr)\n",
    "print(f'num = {num}')\n",
    "\n",
    "while ea > 0.1:\n",
    "    if f(xl) * f(xr) < 0:\n",
    "        xu = xr\n",
    "        xrn = xu - ((f(xu) * (xl - xu)) / (f(xl) - f(xu)))\n",
    "        ea = (abs(xrn - xr) / abs(xrn)) * 100\n",
    "        xr = xrn\n",
    "\n",
    "    elif f(xl) * f(xr) > 0:\n",
    "        xl = xr\n",
    "        xrn = xu - ((f(xu) * (xl - xu)) / (f(xl) - f(xu)))\n",
    "        ea = (abs(xrn - xr) / abs(xrn)) * 100\n",
    "        xr = xrn\n",
    "\n",
    "print(f'Solution = {xr}')\n",
    "print(f'ea is = {ea}')"
   ]
  },
  {
   "cell_type": "markdown",
   "id": "d5709b2e",
   "metadata": {},
   "source": [
    "## PROBLEM\n",
    "\n",
    "กําหนดฟังก์ชัน\n",
    "\n",
    "$$ f(x) = x^3 - 6x^2 + 11x - 5.9 $$\n",
    "\n",
    "จงหาค่ารากของสมการโดยวิธีนิวตันราฟสัน (Newton Raphson Method)\n",
    "\n",
    "กำหนดค่าเริ่มต้น\n",
    "    $$ x_0 = 3.5  $$\n",
    "โดยที่ค่าร้อยละของความคลาดเคลื่อนสัมพัทธ์ คือ $\\varepsilon_{a} = 0.1 \\%$"
   ]
  },
  {
   "cell_type": "code",
   "execution_count": 1,
   "id": "24ab9dbb",
   "metadata": {},
   "outputs": [],
   "source": [
    "# Solution here ...\n",
    "\n",
    "\n",
    "\n"
   ]
  },
  {
   "cell_type": "markdown",
   "id": "5d015a53",
   "metadata": {},
   "source": [
    "## PROBLEM\n",
    "\n",
    "กําหนดฟังก์ชัน\n",
    "\n",
    "$$ f(x) = \\mathrm{e}^{-x} - x $$\n",
    "\n",
    "จงหาค่ารากของสมการโดยวิธีทำซ้ำแบบจุดตรึง (Fixed-Point Iteration Method)\n",
    "\n",
    "กำหนดค่าเริ่มต้น\n",
    "    $$ x_0 = 0  $$\n",
    "โดยที่ค่าร้อยละของความคลาดเคลื่อนสัมพัทธ์ คือ $\\varepsilon_{a} = 0.1 \\%$"
   ]
  },
  {
   "cell_type": "code",
   "execution_count": 1,
   "id": "931baee2",
   "metadata": {},
   "outputs": [],
   "source": [
    "# Solution here ...\n",
    "\n",
    "\n",
    "\n"
   ]
  }
 ],
 "metadata": {
  "kernelspec": {
   "display_name": "Python 3 (ipykernel)",
   "language": "python",
   "name": "python3"
  },
  "language_info": {
   "codemirror_mode": {
    "name": "ipython",
    "version": 3
   },
   "file_extension": ".py",
   "mimetype": "text/x-python",
   "name": "python",
   "nbconvert_exporter": "python",
   "pygments_lexer": "ipython3",
   "version": "3.11.4"
  }
 },
 "nbformat": 4,
 "nbformat_minor": 5
}
