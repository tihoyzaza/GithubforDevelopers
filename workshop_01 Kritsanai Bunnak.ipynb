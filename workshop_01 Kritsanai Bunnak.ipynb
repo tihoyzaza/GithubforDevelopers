{
 "cells": [
  {
   "cell_type": "markdown",
   "id": "cf223805",
   "metadata": {},
   "source": [
    "# Erorrs and Approximation\n",
    "ค่าคลาดเคลื่อนและค่าประมาณ\n",
    "***"
   ]
  },
  {
   "cell_type": "markdown",
   "id": "243079fe",
   "metadata": {},
   "source": [
    "## Problem:\n",
    "จากตารางที่กำหนดให้ \n",
    "\n",
    "| ค่าจริง  | ค่าประมาณ   |\n",
    "|--------| -----------|\n",
    "| 10000  |  9999      |\n",
    "| $\\pi$  |  $\\dfrac{22}{7}$ |\n",
    "| $\\mathrm{e}$  |  2.718 |\n",
    "| $\\sqrt{2}$  |  1.414 |\n",
    "\n",
    "จงหา\n",
    "- ค่าคลาดเคลื่อน ($E$) \n",
    "- ค่าคลาดเคลื่อนสัมบูรณ์ ($E_{abs}$) \n",
    "- ค่าคลาดเคลื่อนสัมพัทธ์ ($E_{rel}$) และ\n",
    "- ร้อยละของค่าค่าคลาดเคลื่อนสัมพัทธ์ ($\\varepsilon_{t}$)\n",
    "\n"
   ]
  },
  {
   "cell_type": "code",
   "execution_count": 15,
   "id": "bb1d1a1c",
   "metadata": {
    "collapsed": true
   },
   "outputs": [
    {
     "name": "stdout",
     "output_type": "stream",
     "text": [
      "ค่าคลาดเคลื่อนคือ 1.00000000\n",
      "ค่าคลาดเคลื่อนสัมบูรณ์ คือ 1.00000000\n",
      "ค่าคลาดเคลื่อนสัมพัทธ์ คือ 0.00010000\n",
      "ร้อยละของค่าค่าคลาดเคลื่อนสัมพัทธ์ 0.01000000\n",
      "----------------------------------------------------------\n",
      "ค่าคลาดเคลื่อนคือ -0.00126449\n",
      "ค่าคลาดเคลื่อนสัมบูรณ์ คือ 0.00126449\n",
      "ค่าคลาดเคลื่อนสัมพัทธ์ คือ 0.00040250\n",
      "ร้อยละของค่าค่าคลาดเคลื่อนสัมพัทธ์ 0.04024994\n",
      "----------------------------------------------------------\n",
      "ค่าคลาดเคลื่อนคือ 0.00028183\n",
      "ค่าคลาดเคลื่อนสัมบูรณ์ คือ 0.00028183\n",
      "ค่าคลาดเคลื่อนสัมพัทธ์ คือ 0.00010368\n",
      "ร้อยละของค่าค่าคลาดเคลื่อนสัมพัทธ์ 0.01036789\n",
      "----------------------------------------------------------\n",
      "ค่าคลาดเคลื่อนคือ 0.00021356\n",
      "ค่าคลาดเคลื่อนสัมบูรณ์ คือ 0.00021356\n",
      "ค่าคลาดเคลื่อนสัมพัทธ์ คือ 0.00015101\n",
      "ร้อยละของค่าค่าคลาดเคลื่อนสัมพัทธ์ 0.01510114\n"
     ]
    }
   ],
   "source": [
    "import math\n",
    "\n",
    "List_actual_val = [10000, math.pi, math.e, 2**0.5]\n",
    "List_approx_val = [9999, 22/7, 2.718, 1.414]\n",
    "\n",
    "for i in range(4):\n",
    "    actual_val = List_actual_val[i]\n",
    "    approx_val = List_approx_val[i]\n",
    "    \n",
    "    E = actual_val - approx_val\n",
    "    E_abs = abs(E)\n",
    "    E_rel = E_abs / abs(actual_val)\n",
    "    e_t = E_rel * 100\n",
    "    \n",
    "    print(f'ค่าคลาดเคลื่อนคือ {E:.8f}')\n",
    "    print(f'ค่าคลาดเคลื่อนสัมบูรณ์ คือ {E_abs:.8f}')\n",
    "    print(f'ค่าคลาดเคลื่อนสัมพัทธ์ คือ {E_rel:.8f}')\n",
    "    print(f'ร้อยละของค่าค่าคลาดเคลื่อนสัมพัทธ์ {e_t:.8f}')\n",
    "    \n",
    "    while i != 3:\n",
    "        print(\"----------------------------------------------------------\")\n",
    "        break\n"
   ]
  },
  {
   "cell_type": "markdown",
   "id": "e433bf62",
   "metadata": {},
   "source": [
    "***"
   ]
  },
  {
   "cell_type": "markdown",
   "id": "89129d6f",
   "metadata": {},
   "source": [
    "## Problem:\n",
    "จงประมาณค่า $\\cos\\left( \\dfrac{\\pi}{3} \\right)$ โดยใช้อนุกรมแมคคลอรีน (Maclaurin series expansion)\n",
    "$$ \\cos(x) = 1 - \\frac{x^2}{2!} + \\frac{x^4}{4!} - \\frac{x^6}{6!} + \\ldots $$"
   ]
  },
  {
   "cell_type": "code",
   "execution_count": 68,
   "id": "50cced46",
   "metadata": {},
   "outputs": [
    {
     "name": "stdout",
     "output_type": "stream",
     "text": [
      "Actual value is  0.50000\n",
      "Sumation is 0.49996\n",
      "x is 1.04720\n",
      "et is 0.00709\n",
      "ea is 0.36635\n"
     ]
    }
   ],
   "source": [
    "## Solution   . . . \n",
    "import math\n",
    "\n",
    "actual_val = math.cos(math.pi/3)\n",
    "print(f'Actual value is  {actual_val:.5f}')\n",
    "\n",
    "x = math.pi/3\n",
    "sum = 0\n",
    "past = 0\n",
    "\n",
    "for k in range(4):\n",
    "    new = ((-1)**k) * (x**(2*k)) / (math.factorial(2*k))\n",
    "    sum += new\n",
    "\n",
    "for j in range(3):\n",
    "        newpast = ((-1)**j) * (x**(2*j)) / (math.factorial(2*j))\n",
    "        past += newpast\n",
    "        \n",
    "et = (abs(actual_val - sum)/abs(actual_val)) * 100\n",
    "ea = (abs(sum - past)/abs(sum)) * 100\n",
    "\n",
    "print(f'Sumation is {sum:.5f}')\n",
    "print(f'x is {x:.5f}')\n",
    "print(f'et is {et:.5f}')\n",
    "print(f'ea is {ea:.5f}')"
   ]
  },
  {
   "cell_type": "markdown",
   "id": "6f67181e",
   "metadata": {},
   "source": [
    "***"
   ]
  },
  {
   "cell_type": "markdown",
   "id": "8e53ef34",
   "metadata": {},
   "source": [
    "## Problem:\n",
    "จงประมาณค่า $\\sin\\left( \\dfrac{\\pi}{2} \\right)$ โดยใช้อนุกรมแมคคลอรีน (Maclaurin series expansion)\n",
    "$$ \\sin(x) = x - \\frac{x^3}{3!} + \\frac{x^3}{5!} - \\frac{x^7}{7!} + \\ldots $$"
   ]
  },
  {
   "cell_type": "code",
   "execution_count": 19,
   "id": "fe87027d",
   "metadata": {
    "scrolled": true
   },
   "outputs": [
    {
     "name": "stdout",
     "output_type": "stream",
     "text": [
      "Actual value is  1.0000000000000000\n",
      "Sumation is 0.9999999999939768\n"
     ]
    }
   ],
   "source": [
    "## Solution   . . . \n",
    "import math\n",
    "\n",
    "actual_val = math.sin(math.pi/2)\n",
    "print(f'Actual value is  {actual_val:.16f}')\n",
    "\n",
    "x = math.pi/2\n",
    "sum = 0\n",
    "\n",
    "for k in range(8):\n",
    "    new = ((-1)**k) * (x**(2*k+1))/(math.factorial(2*k+1))\n",
    "    sum += new\n",
    "\n",
    "print(f'Sumation is {sum:}')\n"
   ]
  }
 ],
 "metadata": {
  "kernelspec": {
   "display_name": "Python 3 (ipykernel)",
   "language": "python",
   "name": "python3"
  },
  "language_info": {
   "codemirror_mode": {
    "name": "ipython",
    "version": 3
   },
   "file_extension": ".py",
   "mimetype": "text/x-python",
   "name": "python",
   "nbconvert_exporter": "python",
   "pygments_lexer": "ipython3",
   "version": "3.11.4"
  }
 },
 "nbformat": 4,
 "nbformat_minor": 5
}
