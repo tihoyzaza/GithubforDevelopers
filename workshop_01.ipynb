{
 "cells": [
  {
   "cell_type": "markdown",
   "id": "cf223805",
   "metadata": {},
   "source": [
    "# Erorrs and Approximation\n",
    "ค่าคลาดเคลื่อนและค่าประมาณ\n",
    "***"
   ]
  },
  {
   "cell_type": "markdown",
   "id": "243079fe",
   "metadata": {},
   "source": [
    "## Problem:\n",
    "จากตารางที่กำหนดให้ \n",
    "\n",
    "| ค่าจริง  | ค่าประมาณ   |\n",
    "|--------| -----------|\n",
    "| 10000  |  9999      |\n",
    "| $\\pi$  |  $\\dfrac{22}{7}$ |\n",
    "| $\\mathrm{e}$  |  2.718 |\n",
    "| $\\sqrt{2}$  |  1.414 |\n",
    "\n",
    "จงหา\n",
    "- ค่าคลาดเคลื่อน ($E$) \n",
    "- ค่าคลาดเคลื่อนสัมบูรณ์ ($E_{abs}$) \n",
    "- ค่าคลาดเคลื่อนสัมพัทธ์ ($E_{rel}$) และ\n",
    "- ร้อยละของค่าค่าคลาดเคลื่อนสัมพัทธ์ ($\\varepsilon_{t}$)\n",
    "\n"
   ]
  },
  {
   "cell_type": "code",
   "execution_count": 3,
   "id": "59b25c35",
   "metadata": {},
   "outputs": [
    {
     "name": "stdout",
     "output_type": "stream",
     "text": [
      "Error value is 1.00000000\n",
      "Absolute error value is 1.00000000\n",
      "Relative value is 0.00010000\n",
      "e_t is 0.01000000\n",
      "------------------------------\n",
      "Error value is -0.00126449\n",
      "Absolute error value is 0.00126449\n",
      "Relative value is 0.00040250\n",
      "e_t is 0.04024994\n",
      "------------------------------\n",
      "Error value is 0.00028183\n",
      "Absolute error value is 0.00028183\n",
      "Relative value is 0.00010368\n",
      "e_t is 0.01036789\n",
      "------------------------------\n",
      "Error value is 0.00021356\n",
      "Absolute error value is 0.00021356\n",
      "Relative value is 0.00015101\n",
      "e_t is 0.01510114\n"
     ]
    }
   ],
   "source": [
    "## Solution  . . . \n",
    "import math\n",
    "list_actual =[10000, math.pi, math.e, 2**0.5]\n",
    "list_approx = [9999, 22/7, 2.718, 1.414]\n",
    "\n",
    "for i in range(4):\n",
    "    actual_value = list_actual[i]\n",
    "    approx_value = list_approx[i]\n",
    "    \n",
    "    E = actual_value - approx_value\n",
    "    E_abs = abs(E)\n",
    "    E_rel = E_abs / abs(actual_value)\n",
    "    e_t = E_rel * 100\n",
    "    \n",
    "    print(f'Error value is {E:.8f}')\n",
    "    print(f'Absolute error value is {E_abs:.8f}')\n",
    "    print(f'Relative value is {E_rel:.8f}')\n",
    "    print(f'e_t is {e_t:.8f}')\n",
    "    \n",
    "    while i != 3:\n",
    "        print(\"-\"*30)\n",
    "        break"
   ]
  },
  {
   "cell_type": "markdown",
   "id": "e433bf62",
   "metadata": {},
   "source": [
    "***"
   ]
  },
  {
   "cell_type": "markdown",
   "id": "89129d6f",
   "metadata": {},
   "source": [
    "## Problem:\n",
    "จงประมาณค่า $\\cos\\left( \\dfrac{\\pi}{3} \\right)$ โดยใช้อนุกรมแมคคลอรีน (Maclaurin series expansion)\n",
    "$$ \\cos(x) = 1 - \\frac{x^2}{2!} + \\frac{x^4}{4!} - \\frac{x^6}{6!} + \\ldots = \\sum_{k=0}^{\\infty}(-1)^k \\frac{x^{2k}}{(2k)!}$$"
   ]
  },
  {
   "cell_type": "code",
   "execution_count": 27,
   "id": "50cced46",
   "metadata": {},
   "outputs": [
    {
     "name": "stdout",
     "output_type": "stream",
     "text": [
      "Exact value is 0.50000\n",
      "x is 1.04720\n",
      "Sumation is 0.49996\n",
      "et is 0.00709\n",
      "ea is 0.36635\n"
     ]
    }
   ],
   "source": [
    "## Solution   . . . \n",
    "import math\n",
    "\n",
    "actual_value = math.cos(math.pi / 3)\n",
    "x = math.pi / 3\n",
    "print(f'Exact value is {actual_value:.5f}')\n",
    "\n",
    "sum = 0\n",
    "past = 0\n",
    "\n",
    "for i in range(4):\n",
    "    new = ((-1) ** i) * (x ** (2 * i)) / (math.factorial(2*i))\n",
    "    sum += new\n",
    "\n",
    "for j in range(3):\n",
    "    pastnew = ((-1) ** j) * (x ** (2 * j)) / (math.factorial(2*j))\n",
    "    past += pastnew\n",
    "\n",
    "et = (abs(actual_value - sum) / abs(actual_value)) * 100\n",
    "ea = (abs(sum - past) / abs(sum)) * 100\n",
    "\n",
    "print(f'x is {x:.5f}')\n",
    "print(f'Sumation is {sum:.5f}')\n",
    "print(f'et is {et:.5f}')\n",
    "print(f'ea is {ea:.5f}')"
   ]
  },
  {
   "cell_type": "markdown",
   "id": "6f67181e",
   "metadata": {},
   "source": [
    "***"
   ]
  },
  {
   "cell_type": "markdown",
   "id": "8e53ef34",
   "metadata": {},
   "source": [
    "## Problem:\n",
    "จงประมาณค่า $\\sin\\left( \\dfrac{\\pi}{2} \\right)$ โดยใช้อนุกรมแมคคลอรีน (Maclaurin series expansion)\n",
    "$$ \\sin(x) = x - \\frac{x^3}{3!} + \\frac{x^5}{5!} - \\frac{x^7}{7!} + \\ldots = \\sum_{k=0}^{\\infty}(-1)^k \\frac{x^{2k+1}}{(2k+1)!} $$"
   ]
  },
  {
   "cell_type": "code",
   "execution_count": 33,
   "id": "fe87027d",
   "metadata": {},
   "outputs": [
    {
     "name": "stdout",
     "output_type": "stream",
     "text": [
      "Exact value is 1.00000\n",
      "x is 1.57080\n",
      "sumation is 0.99984\n",
      "et is 0.01569\n",
      "ea is 0.46825\n"
     ]
    }
   ],
   "source": [
    "## Solution   . . . \n",
    "import math\n",
    "\n",
    "actual_value = math.sin(math.pi / 2)\n",
    "x = math.pi / 2\n",
    "print(f'Exact value is {actual_value:.5f}')\n",
    "\n",
    "sum = 0\n",
    "past = 0\n",
    "\n",
    "for i in range(4):\n",
    "    new = ((-1) ** i) * (x ** (2*i+1)) / (math.factorial(2*i + 1))\n",
    "    sum += new\n",
    "\n",
    "for j in range(3):\n",
    "    pastnew = ((-1) ** j) * (x ** (2*j+1)) / (math.factorial(2*j + 1))\n",
    "    past += pastnew\n",
    "    \n",
    "et = (abs(actual_value - sum) / abs(actual_value)) * 100\n",
    "ea = (abs(sum - past) / abs(sum)) * 100\n",
    "\n",
    "print(f'x is {x:.5f}')\n",
    "print(f'sumation is {sum:.5f}')\n",
    "print(f'et is {et:.5f}')\n",
    "print(f'ea is {ea:.5f}')"
   ]
  },
  {
   "cell_type": "markdown",
   "id": "9ae86521",
   "metadata": {},
   "source": [
    "***"
   ]
  }
 ],
 "metadata": {
  "kernelspec": {
   "display_name": "Python 3 (ipykernel)",
   "language": "python",
   "name": "python3"
  },
  "language_info": {
   "codemirror_mode": {
    "name": "ipython",
    "version": 3
   },
   "file_extension": ".py",
   "mimetype": "text/x-python",
   "name": "python",
   "nbconvert_exporter": "python",
   "pygments_lexer": "ipython3",
   "version": "3.11.4"
  }
 },
 "nbformat": 4,
 "nbformat_minor": 5
}
