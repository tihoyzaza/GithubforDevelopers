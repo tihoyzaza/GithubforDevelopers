{
 "cells": [
  {
   "cell_type": "markdown",
   "id": "783f968e",
   "metadata": {},
   "source": [
    "# Workshop 03\n",
    "\n",
    "Root Finding"
   ]
  },
  {
   "cell_type": "markdown",
   "id": "e94c8df2",
   "metadata": {},
   "source": [
    "## PROBLEM\n",
    "\n",
    "กําหนดฟังก์ชัน\n",
    "\n",
    "$$ f(x) = x^3 - 6x^2 + 11x - 5.9 $$\n",
    "\n",
    "จงหาค่ารากของสมการโดยวิธีวางผิดที่ (False-Position Method)\n",
    "\n",
    "กำหนดค่าเริ่มต้น\n",
    "    $$ x_l = 2.5 \\quad\\text{ และ }\\quad x_u = 3.5  $$\n",
    "โดยที่ค่าร้อยละของความคลาดเคลื่อนสัมพัทธ์ คือ $\\varepsilon_{a} = 0.1 \\%$"
   ]
  },
  {
   "cell_type": "code",
   "execution_count": 127,
   "id": "c605c46a",
   "metadata": {},
   "outputs": [],
   "source": [
    "def f(x):\n",
    "    return (x**3) - (6*x**2) + (11*x) - (5.9)\n",
    "\n",
    "def is_sol_in_range(f, xl, xu):\n",
    "    if f(xl) * f(xu) < 0:\n",
    "        return True\n",
    "    else:\n",
    "        return False"
   ]
  },
  {
   "cell_type": "code",
   "execution_count": 128,
   "id": "fdb95694",
   "metadata": {},
   "outputs": [
    {
     "name": "stdout",
     "output_type": "stream",
     "text": [
      "ROUND 1 : Solution is in range 2.5 .... 3.5\n",
      "ROUND 2 : Solution is in range 2.6222222222222222 .... 3.5\n",
      "ROUND 3 : Solution is in range 2.7316651457662946 .... 3.5\n",
      "Error = 2.957272258112329\n",
      "ROUND 4 : Solution is in range 2.8149096890927505 .... 3.5\n",
      "Error = 1.9299675059630075\n",
      "ROUND 5 : Solution is in range 2.8703056555670123 .... 3.5\n",
      "Error = 1.1549585709425738\n",
      "ROUND 6 : Solution is in range 2.9038438489876843 .... 3.5\n",
      "Error = 0.6543423992622415\n",
      "ROUND 7 : Solution is in range 2.9229700815490096 .... 3.5\n",
      "Error = 0.3590059127755201\n",
      "ROUND 8 : Solution is in range 2.9335015254768315 .... 3.5\n",
      "Error = 0.19346069889478984\n",
      "ROUND 9 : Solution is in range 2.939187698540257 .... 3.5\n",
      "Error = 0.10323569308089621\n",
      "ROUND 10 : Solution is in range 2.9422251250400926 .... 3.5\n",
      "Error = 0.054800294713427226\n",
      "ROUND 11 : Solution is in range 2.94383835713569 .... 3.5\n",
      "Error = 0.029008109044356238\n",
      "ROUND 12 : Solution is in range 2.944692556763577 .... 3.5\n",
      "Error = 0.015332425632558834\n",
      "ROUND 13 : Solution is in range 2.945144118795363 .... 3.5\n",
      "Error = 0.008097687917961668\n",
      "ROUND 14 : Solution is in range 2.945382626688462 .... 3.5\n",
      "Error = 0.004274948336071216\n",
      "ROUND 15 : Solution is in range 2.9455085456570234 .... 3.5\n",
      "Error = 0.0022563448661588473\n",
      "solution is 2.945575007987495\n",
      "check f(2.945575007987495) = -0.00012495592535977096\n"
     ]
    }
   ],
   "source": [
    "xl = 2.5\n",
    "xu = 3.5\n",
    "round = 0\n",
    "\n",
    "for i in range(15):\n",
    "    if is_sol_in_range(f, xl, xu):\n",
    "        round += 1\n",
    "        print(f'ROUND {round} : Solution is in range {xl} .... {xu}')\n",
    "        if i >= 2:\n",
    "            xr_old = xr\n",
    "        xr = xu - ((f(xu) * (xl - xu)) / (f(xl) - f(xu)))\n",
    "        if is_sol_in_range(f, xl, xr):\n",
    "            xu = xr\n",
    "        else:\n",
    "            xl = xr\n",
    "        if i >=2:\n",
    "            error = (abs(xr - xr_old) / abs(xr)) * 100\n",
    "            print(f'Error = {error}')\n",
    "\n",
    "solution = xr\n",
    "print(f'solution is {solution}')\n",
    "check = f(solution)\n",
    "print(f'check f({solution}) = {check}')"
   ]
  },
  {
   "cell_type": "markdown",
   "id": "d5709b2e",
   "metadata": {},
   "source": [
    "## PROBLEM\n",
    "\n",
    "กําหนดฟังก์ชัน\n",
    "\n",
    "$$ f(x) = x^3 - 6x^2 + 11x - 5.9 $$\n",
    "\n",
    "จงหาค่ารากของสมการโดยวิธีนิวตันราฟสัน (Newton Raphson Method)\n",
    "\n",
    "กำหนดค่าเริ่มต้น\n",
    "    $$ x_0 = 3.5  $$\n",
    "โดยที่ค่าร้อยละของความคลาดเคลื่อนสัมพัทธ์ คือ $\\varepsilon_{a} = 0.1 \\%$"
   ]
  },
  {
   "cell_type": "code",
   "execution_count": 129,
   "id": "24ab9dbb",
   "metadata": {},
   "outputs": [
    {
     "name": "stdout",
     "output_type": "stream",
     "text": [
      "x0 = 3.5\n",
      "x1 = 3.156521739130435\n",
      "x2 = 2.500947847257537 \t and \t error = 0.262130173002920\n",
      "x3 = 10.491924703745461 \t and \t error = 0.761631167028416\n",
      "x4 = 10.482753091028302 \t and \t error = 0.000874924043094\n",
      "x5 = 10.473561542413352 \t and \t error = 0.000877595322062\n",
      "x6 = 10.464349949181956 \t and \t error = 0.000880283369357\n",
      "x7 = 10.455118201663675 \t and \t error = 0.000882988345059\n",
      "x8 = 10.445866189224786 \t and \t error = 0.000885710411304\n",
      "x9 = 10.436593800256613 \t and \t error = 0.000888449732320\n"
     ]
    }
   ],
   "source": [
    "def f(x):\n",
    "    return (x**3) - (6*x**2) + (11*x) - (5.9)\n",
    "\n",
    "def fprime(x):\n",
    "    return (3*x**2) - (12*x) + 11\n",
    "\n",
    "x0 = 3.5\n",
    "xnow = x0\n",
    "print(f'x0 = {xnow}')\n",
    "\n",
    "for i in range(1, 10):\n",
    "    xnew = xnow - (f(x0) / fprime(xnow))\n",
    "    if i >=2:\n",
    "        error = (abs(xnew - xnow) / abs(xnew))\n",
    "    xnow = xnew\n",
    "    if i >= 2:\n",
    "        print(f'x{i} = {xnow} \\t and \\t error = {error:.15f}')\n",
    "    else:\n",
    "        print(f'x{i} = {xnow:.15f}')"
   ]
  },
  {
   "cell_type": "markdown",
   "id": "5d015a53",
   "metadata": {},
   "source": [
    "## PROBLEM\n",
    "\n",
    "กําหนดฟังก์ชัน\n",
    "\n",
    "$$ f(x) = \\mathrm{e}^{-x} - x $$\n",
    "\n",
    "จงหาค่ารากของสมการโดยวิธีทำซ้ำแบบจุดตรึง (Fixed-Point Iteration Method)\n",
    "\n",
    "กำหนดค่าเริ่มต้น\n",
    "    $$ x_0 = 0  $$\n",
    "โดยที่ค่าร้อยละของความคลาดเคลื่อนสัมพัทธ์ คือ $\\varepsilon_{a} = 0.1 \\%$"
   ]
  },
  {
   "cell_type": "code",
   "execution_count": 130,
   "id": "931baee2",
   "metadata": {},
   "outputs": [],
   "source": [
    "import math\n",
    "\n",
    "def f(x):\n",
    "    return math.exp(-x) -x\n",
    "\n",
    "def g(x):\n",
    "    return f(x) + x\n"
   ]
  },
  {
   "cell_type": "code",
   "execution_count": 133,
   "id": "80d2c74e",
   "metadata": {},
   "outputs": [
    {
     "name": "stdout",
     "output_type": "stream",
     "text": [
      "x0 = 0\n",
      "x1 = 1.000000000000000\n",
      "x2 = 0.36787944117144233 \t and \t error = 171.828182845904507\n",
      "x3 = 0.6922006275553464 \t and \t error = 46.853639461338439\n",
      "x4 = 0.5004735005636368 \t and \t error = 38.309146593333139\n",
      "x5 = 0.6062435350855974 \t and \t error = 17.446789681151248\n",
      "x6 = 0.545395785975027 \t and \t error = 11.156622525381316\n",
      "x7 = 0.5796123355033789 \t and \t error = 5.903350814408673\n",
      "x8 = 0.5601154613610891 \t and \t error = 3.480866979624528\n",
      "x9 = 0.571143115080177 \t and \t error = 1.930803931259823\n",
      "x10 = 0.5648793473910495 \t and \t error = 1.108868242051569\n",
      "x11 = 0.5684287250290607 \t and \t error = 0.624419119183282\n",
      "x12 = 0.5664147331468833 \t and \t error = 0.355568413799569\n",
      "x13 = 0.5675566373282834 \t and \t error = 0.201196516135472\n",
      "x14 = 0.5669089119214953 \t and \t error = 0.114255640221412\n",
      "x15 = 0.5672762321755696 \t and \t error = 0.064751567797147\n",
      "x16 = 0.5670678983907884 \t and \t error = 0.036738772441949\n"
     ]
    }
   ],
   "source": [
    "x0 = 0\n",
    "xnow = x0\n",
    "print(f'x0 = {xnow}')\n",
    "\n",
    "for i in range(1, 17):\n",
    "    xnew = g(xnow)\n",
    "    if i >=2:\n",
    "        error = (abs(xnew - xnow) / abs(xnew))*100\n",
    "    xnow = xnew\n",
    "    if i >= 2:\n",
    "        print(f'x{i} = {xnow} \\t and \\t error = {error:.15f}')\n",
    "    else:\n",
    "        print(f'x{i} = {xnow:.15f}')"
   ]
  },
  {
   "cell_type": "code",
   "execution_count": null,
   "id": "fdfe00f2",
   "metadata": {},
   "outputs": [],
   "source": []
  }
 ],
 "metadata": {
  "kernelspec": {
   "display_name": "Python 3 (ipykernel)",
   "language": "python",
   "name": "python3"
  },
  "language_info": {
   "codemirror_mode": {
    "name": "ipython",
    "version": 3
   },
   "file_extension": ".py",
   "mimetype": "text/x-python",
   "name": "python",
   "nbconvert_exporter": "python",
   "pygments_lexer": "ipython3",
   "version": "3.9.9"
  }
 },
 "nbformat": 4,
 "nbformat_minor": 5
}
