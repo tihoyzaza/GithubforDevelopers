{
 "cells": [
  {
   "cell_type": "markdown",
   "id": "72bd6cdd",
   "metadata": {},
   "source": [
    "# Numerical Differentiation"
   ]
  },
  {
   "cell_type": "code",
   "execution_count": 321,
   "id": "6d7814c9",
   "metadata": {},
   "outputs": [],
   "source": [
    "#ID 116510905109-4\n",
    "# นายกฤษนัย บุญนาค"
   ]
  },
  {
   "cell_type": "markdown",
   "id": "ce448ae0",
   "metadata": {},
   "source": [
    "## Problem 1\n",
    "In this problem, we consider the function\n",
    "\n",
    "$$ f(x) = -0.1x^4 -0.15x^3 - 0.5x^2 -0.25x + 12 $$\n",
    "\n"
   ]
  },
  {
   "cell_type": "markdown",
   "id": "b57212c6",
   "metadata": {},
   "source": [
    "### 1.1 Estimate the derivative of $f$ at $x = 0.5$ using the forward finite-divided-difference formula and a step size of $h = 0.25$, with the accuracy of $O(h)$ "
   ]
  },
  {
   "cell_type": "code",
   "execution_count": 1,
   "id": "07336a18",
   "metadata": {},
   "outputs": [],
   "source": [
    "def derivative(f, x, h, method, error):\n",
    "    if method == 'forward':\n",
    "        if error == 'Oh':\n",
    "            xi = [x, x+h]\n",
    "            d = (1/h) * (f(xi[1]) - f(xi[0]))\n",
    "        elif error == 'Oh2':\n",
    "            xi = [x, x+h, x+2*h]\n",
    "            d = (1/(2*h)) * (-f(xi[2]) + 4*f(xi[1]) - 3*f(xi[0]))\n",
    "            \n",
    "    elif method == 'backward':\n",
    "        if error == 'Oh':\n",
    "            xi = [x, x-h]\n",
    "            d = (1/h) * (f(xi[0]) - f(xi[1]))\n",
    "        elif error == 'Oh2':\n",
    "            xi = [x, x-h, x-2*h]\n",
    "            d = (1/(2*h)) * (3*f(xi[0]) - 4*f(xi[1]) + f(xi[2])) \n",
    "            \n",
    "    elif method == 'center':\n",
    "        if error == 'Oh':\n",
    "            xi = [x-h, x+h]\n",
    "            d = (1/(2*h)) * (f(xi[1]) - f(xi[0]))\n",
    "        elif error == 'Oh2':\n",
    "            xi = [x-2*h, x-h, x+h, x+2*h]\n",
    "            d = (1/(12*h)) * (-f(xi[3]) + 8*f(xi[2]) - 8*f(xi[1]) + f(xi[0]))\n",
    "            \n",
    "    elif method == 'second':\n",
    "        if error == 'Oh':\n",
    "            xi = [x-h, x, x+h]\n",
    "            d = (1/(h**2)) * (f(xi[2]) - 2*f(xi[1]) + f(xi[0]))\n",
    "        elif error == 'Oh2':\n",
    "            xi = [x-2*h, x-h, x, x+h, x+2*h]\n",
    "            d = (1/(12*(h**2))) * (-f(xi[4]) + 16*f(xi[3]) - 30*f(xi[2]) + 16*f(xi[1]) - f(xi[0]))\n",
    "            \n",
    "    elif method == 'forward_second':\n",
    "        if error == 'Oh2':\n",
    "            xi = [x, x+h, x+2*h, x+3*h]\n",
    "            d = (1/(h**2)) * (-f(xi[3]) + 4*f(xi[2]) - 5*f(xi[1]) + 2*f(xi[0]))\n",
    "    \n",
    "    elif method == 'backward_second':\n",
    "        if error == 'Oh2':\n",
    "            xi = [x-3*h, x-2*h, x-h, x]\n",
    "            d = (1/(h**2)) * (2*f(xi[3]) - 5*f(xi[2]) + 4*f(xi[1]) - f(xi[0]))\n",
    "    else:\n",
    "        d = None\n",
    "    return d    "
   ]
  },
  {
   "cell_type": "code",
   "execution_count": 20,
   "id": "099657a4",
   "metadata": {},
   "outputs": [],
   "source": [
    "def f(x):\n",
    "    return -0.1*x**4 - 0.15*x**3. - 0.5*x**2 -0.25*x + 12"
   ]
  },
  {
   "cell_type": "code",
   "execution_count": 264,
   "id": "325805cd",
   "metadata": {},
   "outputs": [
    {
     "data": {
      "text/plain": [
       "-1.1546875000000014"
      ]
     },
     "execution_count": 264,
     "metadata": {},
     "output_type": "execute_result"
    }
   ],
   "source": [
    "derivative(f, 0.5, h=0.25, method='forward', error='Oh')"
   ]
  },
  {
   "cell_type": "markdown",
   "id": "20dccfb2",
   "metadata": {},
   "source": [
    "### 1.2 Estimate the derivative of $f$ at $x = 0.5$ using the forward finite-divided-difference formula and a step size of $h = 0.25$, with the accuracy of $O(h^2)$ "
   ]
  },
  {
   "cell_type": "code",
   "execution_count": 265,
   "id": "cb61ba03",
   "metadata": {},
   "outputs": [
    {
     "data": {
      "text/plain": [
       "-0.859375"
      ]
     },
     "execution_count": 265,
     "metadata": {},
     "output_type": "execute_result"
    }
   ],
   "source": [
    "derivative(f, 0.5, h=0.25, method='forward', error='Oh2')"
   ]
  },
  {
   "cell_type": "markdown",
   "id": "8768722e",
   "metadata": {},
   "source": [
    "### 1.3 Estimate the derivative of $f$ at $x = 0.5$ using the backward finite-divided-difference formula and a step size of $h = 0.25$, with the accuracy of $O(h)$"
   ]
  },
  {
   "cell_type": "code",
   "execution_count": 266,
   "id": "67b9e0e1",
   "metadata": {},
   "outputs": [
    {
     "data": {
      "text/plain": [
       "-0.7140625000000043"
      ]
     },
     "execution_count": 266,
     "metadata": {},
     "output_type": "execute_result"
    }
   ],
   "source": [
    "derivative(f, 0.5, h=0.25, method='backward', error='Oh')"
   ]
  },
  {
   "cell_type": "markdown",
   "id": "df5d1c80",
   "metadata": {},
   "source": [
    "### 1.4 Estimate the derivative of $f$ at $x = 0.5$ using the backward finite-divided-difference formula and a step size of $h = 0.25$, with the accuracy of $O(h^2)$"
   ]
  },
  {
   "cell_type": "code",
   "execution_count": 267,
   "id": "0d54be60",
   "metadata": {},
   "outputs": [
    {
     "data": {
      "text/plain": [
       "-0.8781250000000114"
      ]
     },
     "execution_count": 267,
     "metadata": {},
     "output_type": "execute_result"
    }
   ],
   "source": [
    "derivative(f, 0.5, h=0.25, method='backward', error='Oh2')"
   ]
  },
  {
   "cell_type": "markdown",
   "id": "80b1c4c2",
   "metadata": {},
   "source": [
    "### 1.5 Estimate the derivative of $f$ at $x = 0.5$ using the center finite-divided-difference formula and a step size of $h = 0.25$, with the accuracy of $O(h)$"
   ]
  },
  {
   "cell_type": "code",
   "execution_count": 268,
   "id": "bbf9096b",
   "metadata": {},
   "outputs": [
    {
     "data": {
      "text/plain": [
       "-0.9343750000000028"
      ]
     },
     "execution_count": 268,
     "metadata": {},
     "output_type": "execute_result"
    }
   ],
   "source": [
    "derivative(f, 0.5, h=0.25, method='center', error='Oh')"
   ]
  },
  {
   "cell_type": "markdown",
   "id": "7f7e22ba",
   "metadata": {},
   "source": [
    "### 1.5 Estimate the derivative of $f$ at $x = 0.5$ using the center finite-divided-difference formula and a step size of $h = 0.25$, with the accuracy of $O(h^2)$"
   ]
  },
  {
   "cell_type": "code",
   "execution_count": 269,
   "id": "0d87ddc1",
   "metadata": {},
   "outputs": [
    {
     "data": {
      "text/plain": [
       "-0.9125000000000038"
      ]
     },
     "execution_count": 269,
     "metadata": {},
     "output_type": "execute_result"
    }
   ],
   "source": [
    "derivative(f, 0.5, h=0.25, method='center', error='Oh2')"
   ]
  },
  {
   "cell_type": "markdown",
   "id": "b9197d05",
   "metadata": {},
   "source": [
    "### 1.5 Estimate the second-order derivative of $f$ at $x = 0.5$ using a finite-divided-difference formula and a step size of $h = 0.25$, with the accuracy of $O(h^2)$"
   ]
  },
  {
   "cell_type": "code",
   "execution_count": 273,
   "id": "e1b2fbc6",
   "metadata": {},
   "outputs": [
    {
     "data": {
      "text/plain": [
       "-1.75"
      ]
     },
     "execution_count": 273,
     "metadata": {},
     "output_type": "execute_result"
    }
   ],
   "source": [
    "derivative(f, 0.5, h=0.25, method='second', error='Oh2')"
   ]
  },
  {
   "cell_type": "markdown",
   "id": "49e28345",
   "metadata": {},
   "source": [
    "-------------\n",
    "\n",
    "## Problem 2\n",
    "\n",
    "Consider the function\n",
    "\n",
    "$$ g(x) = \\frac{\\sin(0.5\\sqrt{x})}{x} $$"
   ]
  },
  {
   "cell_type": "markdown",
   "id": "6f8d8df7",
   "metadata": {},
   "source": [
    "### 2.1 Estimate the derivative of $g$ at $x = 1.25$ and a step size $h = 0.2$, with the accuracy of $O(h^2)$"
   ]
  },
  {
   "cell_type": "code",
   "execution_count": 191,
   "id": "3d97f2d4",
   "metadata": {},
   "outputs": [],
   "source": [
    "import numpy as np\n",
    "\n",
    "def g(x):\n",
    "    return (1/x) * np.sin(0.5*np.sqrt(x))"
   ]
  },
  {
   "cell_type": "code",
   "execution_count": 192,
   "id": "6d16e15c",
   "metadata": {},
   "outputs": [
    {
     "data": {
      "text/plain": [
       "-0.1875109909048177"
      ]
     },
     "execution_count": 192,
     "metadata": {},
     "output_type": "execute_result"
    }
   ],
   "source": [
    "derivative(g, 1.25, h=0.2, method='center', error='Oh2')"
   ]
  },
  {
   "cell_type": "markdown",
   "id": "15c11b3d",
   "metadata": {},
   "source": [
    "### 2.2 Estimate the second-order derivative of $g$ at $x = 1.25$ and a step size $h = 0.2$, with the accuracy of $O(h^2)$"
   ]
  },
  {
   "cell_type": "code",
   "execution_count": 187,
   "id": "ae6e82cf",
   "metadata": {},
   "outputs": [
    {
     "data": {
      "text/plain": [
       "0.21817555713697503"
      ]
     },
     "execution_count": 187,
     "metadata": {},
     "output_type": "execute_result"
    }
   ],
   "source": [
    "derivative(g, 1.25, h=0.2, method='second', error='Oh2')"
   ]
  },
  {
   "cell_type": "markdown",
   "id": "cd356f7a",
   "metadata": {},
   "source": [
    "-------------\n",
    "\n",
    "## Problem 3\n",
    "\n",
    "The following data were collected for the distance traveled versus time for a rocket:\n",
    "\n",
    "|                   |      |     |      |      |     |       |\n",
    "|-------------------|------|-----|------|------|-----|-------|\n",
    "| Time $t$: (s)     | 0    | 25  |  50  | 75   | 100 | 125   |\n",
    "| Distance $y$: (m) | 0    | 32  |  58  | 78   | 92  | 100   |\n",
    "|                   |      |     |      |      |     |       |\n",
    "\n",
    "Use numerical differentiation to estimate the rocket’s velocity and acceleration at each time."
   ]
  },
  {
   "cell_type": "markdown",
   "id": "14647d36",
   "metadata": {},
   "source": [
    "--------------------------------------\n",
    "diff 1 = velo , diff 2 = acceleraion."
   ]
  },
  {
   "cell_type": "code",
   "execution_count": 8,
   "id": "80542b88",
   "metadata": {},
   "outputs": [],
   "source": [
    "def distance_fn(t):\n",
    "    \n",
    "    T = [0, 25, 50, 75, 100, 125]\n",
    "    Y = [0, 32, 58, 78, 92, 100]\n",
    "    \n",
    "    if t in T:\n",
    "        i = T.index(t)\n",
    "        y = Y[i]\n",
    "    else:\n",
    "        y = None\n",
    "    return y"
   ]
  },
  {
   "cell_type": "code",
   "execution_count": 9,
   "id": "0f418940",
   "metadata": {},
   "outputs": [
    {
     "name": "stdout",
     "output_type": "stream",
     "text": [
      "100\n"
     ]
    }
   ],
   "source": [
    "print(distance_fn(125))"
   ]
  },
  {
   "cell_type": "code",
   "execution_count": 10,
   "id": "77cebb00",
   "metadata": {},
   "outputs": [
    {
     "name": "stdout",
     "output_type": "stream",
     "text": [
      "At time t = 0 velocity = 1.4000000000000001 m/s\n",
      "At time t = 25 velocity = 1.16 m/s\n",
      "At time t = 50 velocity = 0.92 m/s\n",
      "At time t = 75 velocity = 0.68 m/s\n"
     ]
    }
   ],
   "source": [
    "# velocity\n",
    "T = [0, 25, 50, 75]\n",
    "\n",
    "for i in T:\n",
    "    velocity = derivative(distance_fn, i, h=25, method='forward', error='Oh2')\n",
    "    print(f'At time t = {i} velocity = {velocity} m/s')"
   ]
  },
  {
   "cell_type": "code",
   "execution_count": 11,
   "id": "dd1c33eb",
   "metadata": {},
   "outputs": [
    {
     "name": "stdout",
     "output_type": "stream",
     "text": [
      "At time t = 100 velocity = 0.44 m/s\n",
      "At time t = 125 velocity = 0.2 m/s\n"
     ]
    }
   ],
   "source": [
    "T = [100, 125]\n",
    "\n",
    "for i in T:\n",
    "    velocity = derivative(distance_fn, i, h=25, method='backward', error='Oh2')\n",
    "    print(f'At time t = {i} velocity = {velocity} m/s')"
   ]
  },
  {
   "cell_type": "code",
   "execution_count": 15,
   "id": "a6f312bf",
   "metadata": {},
   "outputs": [],
   "source": [
    "def second(f, x, h, method, error):\n",
    "    \n",
    "    if method == 'forward_second':\n",
    "        if error == 'Oh2':\n",
    "            xi = [x+3*h,x+2*h,x+h,x]\n",
    "            d = (1/(h**2)) * ((-f(xi[3])) + (4*f(xi[2])) - (5*f(xi[1])) + (2*f(xi[0])))\n",
    "    \n",
    "    elif method == 'backward_second':\n",
    "        if error == 'Oh2':\n",
    "            xi = [x-3*h, x-2*h, x-h, x]\n",
    "            d = (1/(h**2)) * (2*f(xi[3])) - (5*f(xi[2])) + (4*f(xi[1])) - f(xi[0])\n",
    "    else:\n",
    "        d = None\n",
    "    return d    "
   ]
  },
  {
   "cell_type": "code",
   "execution_count": 16,
   "id": "ccbe4d0e",
   "metadata": {
    "collapsed": true
   },
   "outputs": [
    {
     "name": "stdout",
     "output_type": "stream",
     "text": [
      "At time t = 0 acceleration = -0.009600000000000001 m/s\n",
      "At time t = 25 acceleration = -0.009600000000000001 m/s\n",
      "At time t = 50 acceleration = -0.009600000000000001 m/s\n"
     ]
    }
   ],
   "source": [
    "# Acceleration\n",
    "T = [0, 25, 50]\n",
    "\n",
    "for i in T:\n",
    "    acceleration = second(distance_fn, i, h=25, method='forward_second', error='Oh2')\n",
    "    print(f'At time t = {i} acceleration = {acceleration} m/s')"
   ]
  },
  {
   "cell_type": "code",
   "execution_count": 14,
   "id": "51a08e57",
   "metadata": {
    "collapsed": true
   },
   "outputs": [
    {
     "name": "stdout",
     "output_type": "stream",
     "text": [
      "At time t = 75 acceleration = -161.7504 m/s\n",
      "At time t = 100 acceleration = -189.7056 m/s\n",
      "At time t = 125 acceleration = -205.68 m/s\n"
     ]
    }
   ],
   "source": [
    "T = [75, 100, 125]\n",
    "\n",
    "for i in T:\n",
    "    acceleration = second(distance_fn, i, h=25, method='backward_second', error='Oh2')\n",
    "    print(f'At time t = {i} acceleration = {acceleration} m/s')"
   ]
  },
  {
   "cell_type": "code",
   "execution_count": 33,
   "id": "b2270a2c",
   "metadata": {},
   "outputs": [
    {
     "name": "stdout",
     "output_type": "stream",
     "text": [
      "At time t = 25 seconds, velocity = 1.16 m/s, acceleration = -0.0096 m/s^2\n",
      "At time t = 50 seconds, velocity = 0.92 m/s, acceleration = -0.0096 m/s^2\n",
      "At time t = 75 seconds, velocity = 0.68 m/s, acceleration = -0.0096 m/s^2\n",
      "At time t = 100 seconds, velocity = 0.44 m/s, acceleration = -0.0096 m/s^2\n"
     ]
    }
   ],
   "source": [
    "T = [0, 25, 50, 75, 100, 125]\n",
    "Y = [0, 32, 58, 78, 92, 100]\n",
    "h = 25\n",
    "\n",
    "# Function to calculate velocity using central differences\n",
    "def calculate_velocity(y, h):\n",
    "    return [(y[i + 1] - y[i - 1]) / (2 * h) for i in range(1, len(y) - 1)]\n",
    "\n",
    "# Function to calculate acceleration using central differences\n",
    "def calculate_acceleration(y, h):\n",
    "    return [(y[i + 1] - 2 * y[i] + y[i - 1]) / (h ** 2) for i in range(1, len(y) - 1)]\n",
    "\n",
    "# Calculate velocity and acceleration\n",
    "velocities = calculate_velocity(Y, h)\n",
    "accelerations = calculate_acceleration(Y, h)\n",
    "\n",
    "# Print results\n",
    "for i in range(len(T) - 2):\n",
    "    print(f\"At time t = {T[i + 1]} seconds, velocity = {velocities[i]} m/s, acceleration = {accelerations[i]} m/s^2\")\n"
   ]
  },
  {
   "cell_type": "code",
   "execution_count": null,
   "id": "438507ce",
   "metadata": {},
   "outputs": [],
   "source": []
  }
 ],
 "metadata": {
  "kernelspec": {
   "display_name": "Python 3 (ipykernel)",
   "language": "python",
   "name": "python3"
  },
  "language_info": {
   "codemirror_mode": {
    "name": "ipython",
    "version": 3
   },
   "file_extension": ".py",
   "mimetype": "text/x-python",
   "name": "python",
   "nbconvert_exporter": "python",
   "pygments_lexer": "ipython3",
   "version": "3.11.4"
  }
 },
 "nbformat": 4,
 "nbformat_minor": 5
}
